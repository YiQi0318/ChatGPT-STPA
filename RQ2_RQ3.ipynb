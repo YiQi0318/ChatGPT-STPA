{
  "nbformat": 4,
  "nbformat_minor": 0,
  "metadata": {
    "colab": {
      "provenance": [],
      "authorship_tag": "ABX9TyPnut7T49KRTbAH+Yw5PVEQ",
      "include_colab_link": true
    },
    "kernelspec": {
      "name": "python3",
      "display_name": "Python 3"
    },
    "language_info": {
      "name": "python"
    }
  },
  "cells": [
    {
      "cell_type": "markdown",
      "metadata": {
        "id": "view-in-github",
        "colab_type": "text"
      },
      "source": [
        "<a href=\"https://colab.research.google.com/github/YiQi0318/ChatGPT-STPA/blob/main/RQ2_RQ3.ipynb\" target=\"_parent\"><img src=\"https://colab.research.google.com/assets/colab-badge.svg\" alt=\"Open In Colab\"/></a>"
      ]
    },
    {
      "cell_type": "code",
      "execution_count": null,
      "metadata": {
        "colab": {
          "base_uri": "https://localhost:8080/",
          "height": 812
        },
        "id": "vf1OSjQd2gcd",
        "outputId": "80de1ce9-b3f6-40ab-d009-a726c11e1d1f"
      },
      "outputs": [
        {
          "output_type": "stream",
          "name": "stdout",
          "text": [
            "One-way ANOVA Results:\n",
            "F-statistic: 1.2416192090680185\n",
            "P-value: 0.2975008719502213\n",
            "Fail to reject the null hypothesis: There is no significant difference between the groups.\n",
            "\n",
            "Group 1 (Sample Size: 5 ): [1.         0.85714286 0.88888889 0.88888889 0.66666667]\n",
            "Group 2 (Sample Size: 19 ): [1.         1.         0.85714286 1.         1.         0.92307692\n",
            " 0.88888889 0.875      1.         0.9        1.         0.8\n",
            " 1.         0.875      0.71428571 0.9        1.         0.81818182\n",
            " 0.8       ]\n",
            "Group 3 (Sample Size: 30 ): [0.85714286 0.875      0.91666667 1.         0.75       0.88888889\n",
            " 1.         0.71428571 1.         0.88888889 0.88888889 1.\n",
            " 1.         0.88888889 0.9        1.         0.88888889 0.8\n",
            " 0.8        0.7        1.         0.9        0.77777778 0.85714286\n",
            " 0.9        0.85714286 0.8        0.83333333 0.83333333 0.7       ]\n",
            "\n",
            "Group 1 (Group1_mean: 0.8603174603174603 )\n",
            "\n",
            "Group 2 (Group2_mean: 0.9132408527145369 )\n",
            "\n",
            "Group 3 (Group3_mean: 0.8738756613756613 )\n",
            "\n",
            "Group (Group_mean_diff: 0.05292339239707666 )\n"
          ]
        },
        {
          "output_type": "display_data",
          "data": {
            "text/plain": [
              "<Figure size 550x250 with 1 Axes>"
            ],
            "image/png": "[encoded data removed]"
          },
          "metadata": {}
        },
        {
          "output_type": "stream",
          "name": "stdout",
          "text": [
            "Multiple Comparison of Means - Tukey HSD, FWER=0.05\n",
            "===================================================\n",
            "group1 group2 meandiff p-adj   lower  upper  reject\n",
            "---------------------------------------------------\n",
            "Group1 Group2   0.0529 0.5039 -0.0607 0.1666  False\n",
            "Group1 Group3   0.0136 0.9518 -0.0957 0.1228  False\n",
            "Group2 Group3  -0.0394 0.3318 -0.1057 0.0269  False\n",
            "---------------------------------------------------\n"
          ]
        }
      ],
      "source": [
        "import numpy as np\n",
        "from scipy import stats\n",
        "import matplotlib.pyplot as plt\n",
        "from statsmodels.stats.multicomp import pairwise_tukeyhsd\n",
        "\n",
        "# Generate three sample datasets with different sizes (replace these with your own data)\n",
        "group1 = np.array([9/9, 6/7, 8/9, 8/9, 4/6])\n",
        "group2 = np.array([5/5, 5/5, 12/14, 6/6, 6/6, 12/13, 8/9, 7/8, 4/4, 9/10, 8/8, 4/5, 4/4, 7/8, 5/7, 9/10, 4/4, 9/11, 4/5])\n",
        "group3 = np.array([6/7, 7/8, 11/12, 8/8, 6/8, 8/9, 5/5, 5/7, 5/5, 8/9, 8/9, 9/9, 5/5, 8/9, 9/10, 7/7, 8/9, 4/5, 8/10, 7/10, 7/7, 9/10, 7/9, 6/7, 9/10, 6/7, 8/10, 10/12, 5/6, 7/10])\n",
        "\n",
        "# Perform a one-way ANOVA\n",
        "f_statistic, p_value = stats.f_oneway(group1, group2, group3)\n",
        "\n",
        "# Print the results\n",
        "print(\"One-way ANOVA Results:\")\n",
        "print(f\"F-statistic: {f_statistic}\")\n",
        "print(f\"P-value: {p_value}\")\n",
        "\n",
        "# Determine the significance level (alpha)\n",
        "alpha = 0.05\n",
        "\n",
        "# Check if the p-value is less than alpha to determine significance\n",
        "if p_value < alpha:\n",
        "    print(\"Reject the null hypothesis: There is a significant difference between at least one pair of groups.\")\n",
        "else:\n",
        "    print(\"Fail to reject the null hypothesis: There is no significant difference between the groups.\")\n",
        "\n",
        "# Additional information about the groups\n",
        "print(\"\\nGroup 1 (Sample Size:\", len(group1), \"):\", group1)\n",
        "print(\"Group 2 (Sample Size:\", len(group2), \"):\", group2)\n",
        "print(\"Group 3 (Sample Size:\", len(group3), \"):\", group3)\n",
        "\n",
        "\n",
        "group1_mean = np.mean(group1)\n",
        "group2_mean = np.mean(group2)\n",
        "group3_mean = np.mean(group3)\n",
        "print(\"\\nGroup 1 (Group1_mean:\", group1_mean, \")\")\n",
        "print(\"\\nGroup 2 (Group2_mean:\", group2_mean, \")\")\n",
        "print(\"\\nGroup 3 (Group3_mean:\", group3_mean, \")\")\n",
        "\n",
        "means = [group1_mean, group2_mean, group3_mean]\n",
        "min_mean = min(means)\n",
        "max_mean = max(means)\n",
        "\n",
        "diff = max_mean - min_mean\n",
        "print(\"\\nGroup (Group_mean_diff:\", diff, \")\")\n",
        "\n",
        "\n",
        "# Create a box plot to show distributions\n",
        "plt.figure(figsize=(5.5, 2.5))\n",
        "plt.boxplot([group1, group2, group3], labels=['Low Complexity','Medium Complexity','High Complexity'])\n",
        "plt.ylabel('Proportion of correct UCAs')\n",
        "plt.grid(axis='y', linestyle='--', which='major', color='grey', alpha=.25)\n",
        "\n",
        "\n",
        "plt.show()\n",
        "\n",
        "\n",
        "data = np.concatenate([group1, group2, group3])\n",
        "labels = ['Group1'] * len(group1) + ['Group2'] * len(group2) + ['Group3'] * len(group3)\n",
        "\n",
        "# Perform pairwise comparison\n",
        "tukey_results = pairwise_tukeyhsd(data, labels, alpha=alpha)\n",
        "\n",
        "# Print the results table\n",
        "print(tukey_results)"
      ]
    },
    {
      "cell_type": "code",
      "source": [
        "import numpy as np\n",
        "from scipy import stats\n",
        "import matplotlib.pyplot as plt\n",
        "from statsmodels.stats.multicomp import pairwise_tukeyhsd\n",
        "\n",
        "# Generate three sample datasets with different sizes (replace these with your own data)\n",
        "group1 = np.array([9, 6, 8, 8, 4])\n",
        "group2 = np.array([5, 5, 12, 6, 6, 12, 8, 7, 4, 9, 8, 4, 4, 7, 5, 9, 4, 9, 4])\n",
        "group3 = np.array([6, 7, 11, 8, 6, 8, 5, 5, 5, 8, 8, 9, 5, 8, 9, 7, 8, 4, 8, 7, 7, 9, 7, 6, 9, 6, 8, 10, 5, 7])\n",
        "\n",
        "# Perform a one-way ANOVA\n",
        "f_statistic, p_value = stats.f_oneway(group1, group2, group3)\n",
        "\n",
        "# Print the results\n",
        "print(\"One-way ANOVA Results:\")\n",
        "print(f\"F-statistic: {f_statistic}\")\n",
        "print(f\"P-value: {p_value}\")\n",
        "\n",
        "# Determine the significance level (alpha)\n",
        "alpha = 0.05\n",
        "\n",
        "# Check if the p-value is less than alpha to determine significance\n",
        "if p_value < alpha:\n",
        "    print(\"Reject the null hypothesis: There is a significant difference between at least one pair of groups.\")\n",
        "else:\n",
        "    print(\"Fail to reject the null hypothesis: There is no significant difference between the groups.\")\n",
        "\n",
        "# Additional information about the groups\n",
        "print(\"\\nGroup 1 (Sample Size:\", len(group1), \"):\", group1)\n",
        "print(\"Group 2 (Sample Size:\", len(group2), \"):\", group2)\n",
        "print(\"Group 3 (Sample Size:\", len(group3), \"):\", group3)\n",
        "\n",
        "\n",
        "group1_mean = np.mean(group1)\n",
        "group2_mean = np.mean(group2)\n",
        "group3_mean = np.mean(group3)\n",
        "print(\"\\nGroup 1 (Group1_mean:\", group1_mean, \")\")\n",
        "print(\"\\nGroup 2 (Group2_mean:\", group2_mean, \")\")\n",
        "print(\"\\nGroup 3 (Group3_mean:\", group3_mean, \")\")\n",
        "\n",
        "means = [group1_mean, group2_mean, group3_mean]\n",
        "min_mean = min(means)\n",
        "max_mean = max(means)\n",
        "\n",
        "diff = max_mean - min_mean\n",
        "print(\"\\nGroup (Group_mean_diff:\", diff, \")\")\n",
        "\n",
        "plt.figure(figsize=(5.5, 2.5))\n",
        "plt.boxplot([group1, group2, group3], labels=['Low Complexity','Medium Complexity','High Complexity'])\n",
        "plt.ylabel('Number of correct UCAs')\n",
        "plt.grid(axis='y', linestyle='--', which='major', color='grey', alpha=.25)\n",
        "\n",
        "\n",
        "\n",
        "plt.show()\n",
        "\n",
        "data = np.concatenate([group1, group2, group3])\n",
        "labels = ['Group1'] * len(group1) + ['Group2'] * len(group2) + ['Group3'] * len(group3)\n",
        "\n",
        "# Perform pairwise comparison\n",
        "tukey_results = pairwise_tukeyhsd(data, labels, alpha=alpha)\n",
        "\n",
        "# Print the results table\n",
        "print(tukey_results)"
      ],
      "metadata": {
        "colab": {
          "base_uri": "https://localhost:8080/",
          "height": 704
        },
        "id": "JSj_ZAD2t8Vh",
        "outputId": "edb8b1db-8cd0-4cef-853d-3eb3c6b0bdf6"
      },
      "execution_count": null,
      "outputs": [
        {
          "output_type": "stream",
          "name": "stdout",
          "text": [
            "One-way ANOVA Results:\n",
            "F-statistic: 0.2914645831995032\n",
            "P-value: 0.7484046656641968\n",
            "Fail to reject the null hypothesis: There is no significant difference between the groups.\n",
            "\n",
            "Group 1 (Sample Size: 5 ): [9 6 8 8 4]\n",
            "Group 2 (Sample Size: 19 ): [ 5  5 12  6  6 12  8  7  4  9  8  4  4  7  5  9  4  9  4]\n",
            "Group 3 (Sample Size: 30 ): [ 6  7 11  8  6  8  5  5  5  8  8  9  5  8  9  7  8  4  8  7  7  9  7  6\n",
            "  9  6  8 10  5  7]\n",
            "\n",
            "Group 1 (Group1_mean: 7.0 )\n",
            "\n",
            "Group 2 (Group2_mean: 6.7368421052631575 )\n",
            "\n",
            "Group 3 (Group3_mean: 7.2 )\n",
            "\n",
            "Group (Group_mean_diff: 0.46315789473684266 )\n"
          ]
        },
        {
          "output_type": "display_data",
          "data": {
            "text/plain": [
              "<Figure size 550x250 with 1 Axes>"
            ],
            "image/png": "[encoded data removed]"
          },
          "metadata": {}
        },
        {
          "output_type": "stream",
          "name": "stdout",
          "text": [
            "Multiple Comparison of Means - Tukey HSD, FWER=0.05\n",
            "===================================================\n",
            "group1 group2 meandiff p-adj   lower  upper  reject\n",
            "---------------------------------------------------\n",
            "Group1 Group2  -0.2632 0.9654 -2.7745 2.2482  False\n",
            "Group1 Group3      0.2 0.9782 -2.2135 2.6135  False\n",
            "Group2 Group3   0.4632 0.7271 -1.0018 1.9281  False\n",
            "---------------------------------------------------\n"
          ]
        }
      ]
    },
    {
      "cell_type": "code",
      "source": [
        "import numpy as np\n",
        "from scipy import stats\n",
        "import matplotlib.pyplot as plt\n",
        "\n",
        "# Generate two sample datasets (replace these with your own data)\n",
        "group1 = np.array([4/5, 6/7, 8/8, 4/4, 7/8, 4/6, 7/10, 7/8, 8/8, 9/10, 8/10, 7/9, 4/4, 10/11, 8/9, 6/7, 7/8, 5/6, 7/7, 5/7, 5/8, 9/9, 8/8, 9/10, 6/7, 8/9, 5/6, 8/10, 11/13, 10/10, 7/8, 6/7, 9/11, 5/7, 6/6, 10/10, 7/8, 10/11])\n",
        "group2 = np.array([6/6, 11/14, 7/7, 9/9, 5/7, 8/9, 6/7, 9/10, 12/14, 11/12, 8/9, 9/10, 6/6, 9/9, 7/8, 6/8, 9/10, 6/6, 7/7, 9/9, 8/9, 10/12, 7/7, 6/7, 5/6, 9/10, 7/8, 13/14, 6/7, 9/10, 14/14, 6/7, 23/25, 7/8, 9/10, 5/5, 5/5, 6/7])\n",
        "\n",
        "# Perform an independent two-sample t-test\n",
        "\n",
        "t_statistic, p_value = stats.ttest_rel(group1, group2)\n",
        "\n",
        "# Print the results\n",
        "print(f\"t-statistic: {t_statistic}\")\n",
        "print(f\"p-value: {p_value}\")\n",
        "\n",
        "# Determine the significance level (alpha)\n",
        "alpha = 0.05\n",
        "\n",
        "# Check if the p-value is less than alpha to determine significance\n",
        "if p_value < alpha:\n",
        "    print(\"Reject the null hypothesis: There is a significant difference between the groups.\")\n",
        "else:\n",
        "    print(\"Fail to reject the null hypothesis: There is no significant difference between the groups.\")\n",
        "\n",
        "\n",
        "group1_mean = np.mean(group1)\n",
        "group2_mean = np.mean(group2)\n",
        "print(\"\\nGroup 1 (Group1_mean:\", group1_mean, \")\")\n",
        "print(\"\\nGroup 2 (Group2_mean:\", group2_mean, \")\")\n",
        "\n",
        "means = [group1_mean, group2_mean]\n",
        "min_mean = min(means)\n",
        "max_mean = max(means)\n",
        "\n",
        "diff = max_mean - min_mean\n",
        "print(\"\\nGroup (Group_mean_diff:\", diff, \")\")\n",
        "\n",
        "\n",
        "# Box plot to show distributions\n",
        "plt.figure(figsize=(5.5, 2.5))\n",
        "plt.boxplot([group1, group2], labels=['Input w prompt', 'Input w/o prompt'])\n",
        "plt.ylabel('Proportion of correct UCAs')\n",
        "plt.grid(axis='y', linestyle='--', which='major', color='grey', alpha=.25)\n",
        "\n",
        "\n",
        "plt.show()\n",
        "\n",
        "# from tabulate import tabulate\n",
        "\n",
        "# Generate LaTeX table\n",
        "# meandiff = group2_mean - group1_mean\n",
        "# # Assuming a 95% confidence interval for the t-test\n",
        "# confidence_level = 0.95\n",
        "# degrees_freedom = len(group1) + len(group2) - 2\n",
        "# confidence_interval = stats.t.interval(confidence_level, degrees_freedom, loc=meandiff, scale=stats.sem(group1-group2))\n",
        "# lower, upper = confidence_interval\n",
        "# reject = p_value < alpha\n",
        "\n",
        "# # Generate LaTeX table\n",
        "# headers = [\"group1\", \"group2\", \"meandiff\", \"p-adj\", \"lower\", \"upper\", \"reject\"]\n",
        "# table_data = [\n",
        "#     [\"Group 1\", \"Group 2\", meandiff, p_value, lower, upper, reject]\n",
        "# ]\n",
        "\n",
        "# latex_table = tabulate(table_data, headers=headers, tablefmt=\"latex_booktabs\")\n",
        "# print(latex_table)"
      ],
      "metadata": {
        "colab": {
          "base_uri": "https://localhost:8080/",
          "height": 415
        },
        "id": "J6z4b4y_fTW-",
        "outputId": "95f0e411-1966-4c6f-a83e-c8fd3f0521fc"
      },
      "execution_count": null,
      "outputs": [
        {
          "output_type": "stream",
          "name": "stdout",
          "text": [
            "t-statistic: -1.9830799126935608\n",
            "p-value: 0.05481841671497154\n",
            "Fail to reject the null hypothesis: There is no significant difference between the groups.\n",
            "\n",
            "Group 1 (Group1_mean: 0.8718039270670846 )\n",
            "\n",
            "Group 2 (Group2_mean: 0.9083270676691729 )\n",
            "\n",
            "Group (Group_mean_diff: 0.03652314060208828 )\n"
          ]
        },
        {
          "output_type": "display_data",
          "data": {
            "text/plain": [
              "<Figure size 550x250 with 1 Axes>"
            ],
            "image/png": "[encoded data removed]"
          },
          "metadata": {}
        }
      ]
    },
    {
      "cell_type": "code",
      "source": [
        "import numpy as np\n",
        "from scipy import stats\n",
        "import matplotlib.pyplot as plt\n",
        "\n",
        "# Generate two sample datasets (replace these with your own data)\n",
        "group1 = np.array([5, 7, 8, 4, 8, 6, 10, 8, 8, 10, 10, 9, 4, 11, 9, 7, 8, 6, 7, 7, 8, 9, 8, 10, 7, 9, 6, 10, 13, 10, 8, 7, 11, 7, 6, 10, 8, 11])\n",
        "group2 = np.array([6, 14, 7, 9, 7, 9, 7, 10, 14, 12, 9, 10, 6, 9, 8, 8, 10, 6, 7, 9, 9, 12, 7, 7, 6, 10, 8, 14, 7, 10, 14, 7, 25, 8, 10, 5, 5, 7])\n",
        "\n",
        "# Perform an independent two-sample t-test\n",
        "t_statistic, p_value = stats.ttest_ind(group1, group2)\n",
        "\n",
        "# Print the results\n",
        "print(f\"t-statistic: {t_statistic}\")\n",
        "print(f\"p-value: {p_value}\")\n",
        "\n",
        "# Determine the significance level (alpha)\n",
        "alpha = 0.05\n",
        "\n",
        "# Check if the p-value is less than alpha to determine significance\n",
        "if p_value < alpha:\n",
        "    print(\"Reject the null hypothesis: There is a significant difference between the groups.\")\n",
        "else:\n",
        "    print(\"Fail to reject the null hypothesis: There is no significant difference between the groups.\")\n",
        "\n",
        "\n",
        "group1_mean = np.mean(group1)\n",
        "group2_mean = np.mean(group2)\n",
        "print(\"\\nGroup 1 (Group1_mean:\", group1_mean, \")\")\n",
        "print(\"\\nGroup 2 (Group2_mean:\", group2_mean, \")\")\n",
        "\n",
        "means = [group1_mean, group2_mean]\n",
        "min_mean = min(means)\n",
        "max_mean = max(means)\n",
        "\n",
        "diff = max_mean - min_mean\n",
        "print(\"\\nGroup (Group_mean_diff:\", diff, \")\")\n",
        "\n",
        "\n",
        "plt.figure(figsize=(5.5, 2.5))\n",
        "plt.boxplot([group1, group2], labels=['Input w prompt', 'Input w/o prompt'])\n",
        "plt.ylabel('Number of correct UCAs')\n",
        "plt.grid(axis='y', linestyle='--', which='major', color='grey', alpha=.25)\n",
        "\n",
        "\n",
        "plt.show()\n",
        "\n",
        "\n",
        "# from tabulate import tabulate\n",
        "\n",
        "# Generate LaTeX table\n",
        "# meandiff = group2_mean - group1_mean\n",
        "# Assuming a 95% confidence interval for the t-test\n",
        "# confidence_level = 0.95\n",
        "# degrees_freedom = len(group1) + len(group2) - 2\n",
        "# confidence_interval = stats.t.interval(confidence_level, degrees_freedom, loc=meandiff, scale=stats.sem(group1-group2))\n",
        "# lower, upper = confidence_interval\n",
        "# reject = p_value < alpha\n",
        "\n",
        "# Generate LaTeX table\n",
        "# headers = [\"group1\", \"group2\", \"meandiff\", \"p-adj\", \"lower\", \"upper\", \"reject\"]\n",
        "# table_data = [\n",
        "#     [\"Group 1\", \"Group 2\", meandiff, p_value, lower, upper, reject]\n",
        "# ]\n",
        "\n",
        "# latex_table = tabulate(table_data, headers=headers, tablefmt=\"latex_booktabs\")\n",
        "# print(latex_table)"
      ],
      "metadata": {
        "colab": {
          "base_uri": "https://localhost:8080/",
          "height": 415
        },
        "id": "9IUJACrtSDRy",
        "outputId": "ef7d7fea-fe0b-4a9d-c5c2-299e115931bc"
      },
      "execution_count": null,
      "outputs": [
        {
          "output_type": "stream",
          "name": "stdout",
          "text": [
            "t-statistic: -1.4890592589818674\n",
            "p-value: 0.1407214429323285\n",
            "Fail to reject the null hypothesis: There is no significant difference between the groups.\n",
            "\n",
            "Group 1 (Group1_mean: 8.157894736842104 )\n",
            "\n",
            "Group 2 (Group2_mean: 9.157894736842104 )\n",
            "\n",
            "Group (Group_mean_diff: 1.0 )\n"
          ]
        },
        {
          "output_type": "display_data",
          "data": {
            "text/plain": [
              "<Figure size 550x250 with 1 Axes>"
            ],
            "image/png": "[encoded data removed]"
          },
          "metadata": {}
        }
      ]
    }
  ]
}