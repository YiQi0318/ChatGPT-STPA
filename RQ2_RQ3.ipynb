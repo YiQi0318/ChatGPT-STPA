{
  "nbformat": 4,
  "nbformat_minor": 0,
  "metadata": {
    "colab": {
      "provenance": [],
      "authorship_tag": "ABX9TyMg7LiiT1zRJg6+DCSW0lgS",
      "include_colab_link": true
    },
    "kernelspec": {
      "name": "python3",
      "display_name": "Python 3"
    },
    "language_info": {
      "name": "python"
    }
  },
  "cells": [
    {
      "cell_type": "markdown",
      "metadata": {
        "id": "view-in-github",
        "colab_type": "text"
      },
      "source": [
        "<a href=\"https://colab.research.google.com/github/YiQi0318/ChatGPT-STPA/blob/main/RQ2_RQ3.ipynb\" target=\"_parent\"><img src=\"https://colab.research.google.com/assets/colab-badge.svg\" alt=\"Open In Colab\"/></a>"
      ]
    },
    {
      "cell_type": "code",
      "execution_count": null,
      "metadata": {
        "colab": {
          "base_uri": "https://localhost:8080/",
          "height": 812
        },
        "id": "vf1OSjQd2gcd",
        "outputId": "de652078-5484-4f4e-9674-1fc4593d006b"
      },
      "outputs": [
        {
          "output_type": "stream",
          "name": "stdout",
          "text": [
            "One-way ANOVA Results:\n",
            "F-statistic: 0.6929811540127634\n",
            "P-value: 0.5047297156105266\n",
            "Fail to reject the null hypothesis: There is no significant difference between the groups.\n",
            "\n",
            "Group 1 (Sample Size: 5 ): [1.         0.85714286 0.88888889 0.88888889 0.66666667]\n",
            "Group 2 (Sample Size: 19 ): [1.         1.         0.85714286 1.         1.         0.92307692\n",
            " 0.88888889 0.875      1.         0.9        1.         0.8\n",
            " 1.         0.875      0.71428571 0.9        1.         0.81818182\n",
            " 0.8       ]\n",
            "Group 3 (Sample Size: 30 ): [0.85714286 0.875      0.91666667 1.         0.75       0.88888889\n",
            " 1.         0.71428571 1.         0.88888889 0.88888889 1.\n",
            " 1.         0.88888889 0.9        1.         0.88888889 0.8\n",
            " 0.8        0.7        1.         0.9        0.77777778 0.85714286\n",
            " 0.9        1.         0.8        1.         1.         0.7       ]\n",
            "\n",
            "Group 1 (Group1_mean: 0.8603174603174603 )\n",
            "\n",
            "Group 2 (Group2_mean: 0.9132408527145369 )\n",
            "\n",
            "Group 3 (Group3_mean: 0.8897486772486772 )\n",
            "\n",
            "Group (Group_mean_diff: 0.05292339239707666 )\n"
          ]
        },
        {
          "output_type": "display_data",
          "data": {
            "text/plain": [
              "<Figure size 550x250 with 1 Axes>"
            ],
            "image/png": "[encoded data removed]"
          },
          "metadata": {}
        },
        {
          "output_type": "stream",
          "name": "stdout",
          "text": [
            "Multiple Comparison of Means - Tukey HSD, FWER=0.05\n",
            "===================================================\n",
            "group1 group2 meandiff p-adj   lower  upper  reject\n",
            "---------------------------------------------------\n",
            "Group1 Group2   0.0529 0.5303 -0.0653 0.1711  False\n",
            "Group1 Group3   0.0294  0.807 -0.0842 0.1431  False\n",
            "Group2 Group3  -0.0235  0.691 -0.0925 0.0455  False\n",
            "---------------------------------------------------\n"
          ]
        }
      ],
      "source": [
        "import numpy as np\n",
        "from scipy import stats\n",
        "import matplotlib.pyplot as plt\n",
        "from statsmodels.stats.multicomp import pairwise_tukeyhsd\n",
        "\n",
        "# Generate three sample datasets with different sizes (replace these with your own data)\n",
        "group1 = np.array([9/9, 6/7, 8/9, 8/9, 4/6])\n",
        "group2 = np.array([5/5, 5/5, 12/14, 6/6, 6/6, 12/13, 8/9, 7/8, 4/4, 9/10, 8/8, 4/5, 4/4, 7/8, 5/7, 9/10, 4/4, 9/11, 4/5])\n",
        "group3 = np.array([6/7, 7/8, 11/12, 8/8, 6/8, 8/9, 5/5, 5/7, 5/5, 8/9, 8/9, 9/9, 5/5, 8/9, 9/10, 7/7, 8/9, 4/5, 8/10, 7/10, 7/7, 9/10, 7/9, 6/7, 9/10, 7/7, 8/10, 12/12, 6/6, 7/10])\n",
        "\n",
        "# Perform a one-way ANOVA\n",
        "f_statistic, p_value = stats.f_oneway(group1, group2, group3)\n",
        "\n",
        "# Print the results\n",
        "print(\"One-way ANOVA Results:\")\n",
        "print(f\"F-statistic: {f_statistic}\")\n",
        "print(f\"P-value: {p_value}\")\n",
        "\n",
        "# Determine the significance level (alpha)\n",
        "alpha = 0.05\n",
        "\n",
        "# Check if the p-value is less than alpha to determine significance\n",
        "if p_value < alpha:\n",
        "    print(\"Reject the null hypothesis: There is a significant difference between at least one pair of groups.\")\n",
        "else:\n",
        "    print(\"Fail to reject the null hypothesis: There is no significant difference between the groups.\")\n",
        "\n",
        "# Additional information about the groups\n",
        "print(\"\\nGroup 1 (Sample Size:\", len(group1), \"):\", group1)\n",
        "print(\"Group 2 (Sample Size:\", len(group2), \"):\", group2)\n",
        "print(\"Group 3 (Sample Size:\", len(group3), \"):\", group3)\n",
        "\n",
        "\n",
        "group1_mean = np.mean(group1)\n",
        "group2_mean = np.mean(group2)\n",
        "group3_mean = np.mean(group3)\n",
        "print(\"\\nGroup 1 (Group1_mean:\", group1_mean, \")\")\n",
        "print(\"\\nGroup 2 (Group2_mean:\", group2_mean, \")\")\n",
        "print(\"\\nGroup 3 (Group3_mean:\", group3_mean, \")\")\n",
        "\n",
        "means = [group1_mean, group2_mean, group3_mean]\n",
        "min_mean = min(means)\n",
        "max_mean = max(means)\n",
        "\n",
        "diff = max_mean - min_mean\n",
        "print(\"\\nGroup (Group_mean_diff:\", diff, \")\")\n",
        "\n",
        "\n",
        "# Create a box plot to show distributions\n",
        "plt.figure(figsize=(5.5, 2.5))\n",
        "plt.boxplot([group1, group2, group3], labels=['Low Complexity','Medium Complexity','High Complexity'])\n",
        "plt.ylabel('Proportion of correct UCAs')\n",
        "plt.grid(axis='y', linestyle='--', which='major', color='grey', alpha=.25)\n",
        "\n",
        "\n",
        "plt.show()\n",
        "\n",
        "\n",
        "data = np.concatenate([group1, group2, group3])\n",
        "labels = ['Group1'] * len(group1) + ['Group2'] * len(group2) + ['Group3'] * len(group3)\n",
        "\n",
        "# Perform pairwise comparison\n",
        "tukey_results = pairwise_tukeyhsd(data, labels, alpha=alpha)\n",
        "\n",
        "# Print the results table\n",
        "print(tukey_results)"
      ]
    },
    {
      "cell_type": "code",
      "source": [
        "import numpy as np\n",
        "from scipy import stats\n",
        "import matplotlib.pyplot as plt\n",
        "from statsmodels.stats.multicomp import pairwise_tukeyhsd\n",
        "\n",
        "# Generate three sample datasets with different sizes (replace these with your own data)\n",
        "group1 = np.array([9, 6, 8, 8, 4])\n",
        "group2 = np.array([5, 5, 12, 6, 6, 12, 8, 7, 4, 9, 8, 4, 4, 7, 5, 9, 4, 9, 4])\n",
        "group3 = np.array([6, 7, 11, 8, 6, 8, 5, 5, 5, 8, 8, 9, 5, 8, 9, 7, 8, 4, 8, 7, 7, 9, 7, 6, 9, 7, 8, 12, 6, 7])\n",
        "\n",
        "# Perform a one-way ANOVA\n",
        "f_statistic, p_value = stats.f_oneway(group1, group2, group3)\n",
        "\n",
        "# Print the results\n",
        "print(\"One-way ANOVA Results:\")\n",
        "print(f\"F-statistic: {f_statistic}\")\n",
        "print(f\"P-value: {p_value}\")\n",
        "\n",
        "# Determine the significance level (alpha)\n",
        "alpha = 0.05\n",
        "\n",
        "# Check if the p-value is less than alpha to determine significance\n",
        "if p_value < alpha:\n",
        "    print(\"Reject the null hypothesis: There is a significant difference between at least one pair of groups.\")\n",
        "else:\n",
        "    print(\"Fail to reject the null hypothesis: There is no significant difference between the groups.\")\n",
        "\n",
        "# Additional information about the groups\n",
        "print(\"\\nGroup 1 (Sample Size:\", len(group1), \"):\", group1)\n",
        "print(\"Group 2 (Sample Size:\", len(group2), \"):\", group2)\n",
        "print(\"Group 3 (Sample Size:\", len(group3), \"):\", group3)\n",
        "\n",
        "\n",
        "group1_mean = np.mean(group1)\n",
        "group2_mean = np.mean(group2)\n",
        "group3_mean = np.mean(group3)\n",
        "print(\"\\nGroup 1 (Group1_mean:\", group1_mean, \")\")\n",
        "print(\"\\nGroup 2 (Group2_mean:\", group2_mean, \")\")\n",
        "print(\"\\nGroup 3 (Group3_mean:\", group3_mean, \")\")\n",
        "\n",
        "means = [group1_mean, group2_mean, group3_mean]\n",
        "min_mean = min(means)\n",
        "max_mean = max(means)\n",
        "\n",
        "diff = max_mean - min_mean\n",
        "print(\"\\nGroup (Group_mean_diff:\", diff, \")\")\n",
        "\n",
        "plt.figure(figsize=(5.5, 2.5))\n",
        "plt.boxplot([group1, group2, group3], labels=['Low Complexity','Medium Complexity','High Complexity'])\n",
        "plt.ylabel('Number of correct UCAs')\n",
        "plt.grid(axis='y', linestyle='--', which='major', color='grey', alpha=.25)\n",
        "\n",
        "\n",
        "\n",
        "plt.show()\n",
        "\n",
        "data = np.concatenate([group1, group2, group3])\n",
        "labels = ['Group1'] * len(group1) + ['Group2'] * len(group2) + ['Group3'] * len(group3)\n",
        "\n",
        "# Perform pairwise comparison\n",
        "tukey_results = pairwise_tukeyhsd(data, labels, alpha=alpha)\n",
        "\n",
        "# Print the results table\n",
        "print(tukey_results)"
      ],
      "metadata": {
        "colab": {
          "base_uri": "https://localhost:8080/",
          "height": 704
        },
        "id": "JSj_ZAD2t8Vh",
        "outputId": "f7f6c496-19a0-4948-f1f5-7f1f98f2a0c8"
      },
      "execution_count": null,
      "outputs": [
        {
          "output_type": "stream",
          "name": "stdout",
          "text": [
            "One-way ANOVA Results:\n",
            "F-statistic: 0.46746952468756403\n",
            "P-value: 0.629243909378643\n",
            "Fail to reject the null hypothesis: There is no significant difference between the groups.\n",
            "\n",
            "Group 1 (Sample Size: 5 ): [9 6 8 8 4]\n",
            "Group 2 (Sample Size: 19 ): [ 5  5 12  6  6 12  8  7  4  9  8  4  4  7  5  9  4  9  4]\n",
            "Group 3 (Sample Size: 30 ): [ 6  7 11  8  6  8  5  5  5  8  8  9  5  8  9  7  8  4  8  7  7  9  7  6\n",
            "  9  7  8 12  6  7]\n",
            "\n",
            "Group 1 (Group1_mean: 7.0 )\n",
            "\n",
            "Group 2 (Group2_mean: 6.7368421052631575 )\n",
            "\n",
            "Group 3 (Group3_mean: 7.333333333333333 )\n",
            "\n",
            "Group (Group_mean_diff: 0.5964912280701755 )\n"
          ]
        },
        {
          "output_type": "display_data",
          "data": {
            "text/plain": [
              "<Figure size 550x250 with 1 Axes>"
            ],
            "image/png": "[encoded data removed]"
          },
          "metadata": {}
        },
        {
          "output_type": "stream",
          "name": "stdout",
          "text": [
            "Multiple Comparison of Means - Tukey HSD, FWER=0.05\n",
            "===================================================\n",
            "group1 group2 meandiff p-adj   lower  upper  reject\n",
            "---------------------------------------------------\n",
            "Group1 Group2  -0.2632 0.9668 -2.8306 2.3042  False\n",
            "Group1 Group3   0.3333 0.9431 -2.1341 2.8007  False\n",
            "Group2 Group3   0.5965 0.6043 -0.9012 2.0941  False\n",
            "---------------------------------------------------\n"
          ]
        }
      ]
    },
    {
      "cell_type": "code",
      "source": [
        "import numpy as np\n",
        "from scipy import stats\n",
        "import matplotlib.pyplot as plt\n",
        "\n",
        "# Generate two sample datasets (replace these with your own data)\n",
        "group1 = np.array([5/5, 7/7, 8/8, 4/4, 7/8, 4/6, 8/10, 8/8, 8/8, 9/10, 8/10, 9/9, 4/4, 9/11, 7/9, 5/7, 7/8, 6/6, 6/7, 6/7, 7/8, 8/9, 7/8, 8/10, 7/7, 7/9, 6/6, 8/10, 11/13, 10/10, 7/8, 6/7, 11/11, 7/7, 5/6, 8/10, 7/8, 10/11])\n",
        "\n",
        "group2 = np.array([6/6, 13/14, 7/7, 9/9, 5/7, 7/9, 7/7, 9/10, 12/14, 10/12, 8/9, 10/10, 6/6, 8/9, 8/8, 8/8, 8/10, 5/6, 7/7, 9/9, 8/9, 12/12, 7/7, 7/7, 6/6, 10/10, 8/8, 13/14, 7/7, 9/10, 14/14, 6/7, 24/25, 7/8, 9/10, 4/5, 4/5, 6/7])\n",
        "\n",
        "# Perform an independent two-sample t-test\n",
        "\n",
        "t_statistic, p_value = stats.ttest_rel(group1, group2)\n",
        "\n",
        "# Print the results\n",
        "print(f\"t-statistic: {t_statistic}\")\n",
        "print(f\"p-value: {p_value}\")\n",
        "\n",
        "# Determine the significance level (alpha)\n",
        "alpha = 0.05\n",
        "\n",
        "# Check if the p-value is less than alpha to determine significance\n",
        "if p_value < alpha:\n",
        "    print(\"Reject the null hypothesis: There is a significant difference between the groups.\")\n",
        "else:\n",
        "    print(\"Fail to reject the null hypothesis: There is no significant difference between the groups.\")\n",
        "\n",
        "\n",
        "group1_mean = np.mean(group1)\n",
        "group2_mean = np.mean(group2)\n",
        "print(\"\\nGroup 1 (Group1_mean:\", group1_mean, \")\")\n",
        "print(\"\\nGroup 2 (Group2_mean:\", group2_mean, \")\")\n",
        "\n",
        "means = [group1_mean, group2_mean]\n",
        "min_mean = min(means)\n",
        "max_mean = max(means)\n",
        "\n",
        "diff = max_mean - min_mean\n",
        "print(\"\\nGroup (Group_mean_diff:\", diff, \")\")\n",
        "\n",
        "\n",
        "# Box plot to show distributions\n",
        "plt.figure(figsize=(5.5, 2.5))\n",
        "plt.boxplot([group1, group2], labels=['Input w prompt', 'Input w/o prompt'])\n",
        "plt.ylabel('Proportion of correct UCAs')\n",
        "plt.grid(axis='y', linestyle='--', which='major', color='grey', alpha=.25)\n",
        "\n",
        "\n",
        "plt.show()\n",
        "\n",
        "from tabulate import tabulate\n",
        "\n",
        "#Generate LaTeX table\n",
        "meandiff = group2_mean - group1_mean\n",
        "# Assuming a 95% confidence interval for the t-test\n",
        "confidence_level = 0.95\n",
        "degrees_freedom = len(group1) + len(group2) - 2\n",
        "confidence_interval = stats.t.interval(confidence_level, degrees_freedom, loc=meandiff, scale=stats.sem(group1-group2))\n",
        "lower, upper = confidence_interval\n",
        "reject = p_value < alpha\n",
        "\n",
        "# Generate LaTeX table\n",
        "headers = [\"group1\", \"group2\", \"meandiff\", \"p-adj\", \"lower\", \"upper\", \"reject\"]\n",
        "table_data = [\n",
        "    [\"Group 1\", \"Group 2\", meandiff, p_value, lower, upper, reject]\n",
        "]\n",
        "\n",
        "latex_table = tabulate(table_data, headers=headers, tablefmt=\"latex_booktabs\")\n",
        "print(latex_table)"
      ],
      "metadata": {
        "colab": {
          "base_uri": "https://localhost:8080/",
          "height": 541
        },
        "id": "J6z4b4y_fTW-",
        "outputId": "5e7169b4-e6e3-467e-97db-b1b489f495f7"
      },
      "execution_count": null,
      "outputs": [
        {
          "output_type": "stream",
          "name": "stdout",
          "text": [
            "t-statistic: -1.7078634637435184\n",
            "p-value: 0.09604048835040342\n",
            "Fail to reject the null hypothesis: There is no significant difference between the groups.\n",
            "\n",
            "Group 1 (Group1_mean: 0.8935154027259289 )\n",
            "\n",
            "Group 2 (Group2_mean: 0.9260254803675855 )\n",
            "\n",
            "Group (Group_mean_diff: 0.03251007764165659 )\n"
          ]
        },
        {
          "output_type": "display_data",
          "data": {
            "text/plain": [
              "<Figure size 550x250 with 1 Axes>"
            ],
            "image/png": "[encoded data removed]"
          },
          "metadata": {}
        },
        {
          "output_type": "stream",
          "name": "stdout",
          "text": [
            "\\begin{tabular}{llrrrrr}\n",
            "\\toprule\n",
            " group1   & group2   &   meandiff &     p-adj &       lower &     upper &   reject \\\\\n",
            "\\midrule\n",
            " Group 1  & Group 2  &  0.0325101 & 0.0960405 & -0.00541903 & 0.0704392 &        0 \\\\\n",
            "\\bottomrule\n",
            "\\end{tabular}\n"
          ]
        }
      ]
    },
    {
      "cell_type": "code",
      "source": [
        "import numpy as np\n",
        "from scipy import stats\n",
        "import matplotlib.pyplot as plt\n",
        "\n",
        "# Generate two sample datasets (replace these with your own data)\n",
        "group1 = np.array([5, 7, 8, 4, 7, 4, 8, 8, 8, 9, 8, 9, 4, 9, 7, 5, 7, 6, 6, 6, 7, 8, 7, 8, 7, 7, 6, 8, 11, 10, 7, 6, 11, 7, 5, 8, 7, 10])\n",
        "group2 = np.array([6, 13, 7, 9, 5, 7, 7, 9, 12, 10, 8, 10, 6, 8, 8, 8, 8, 5, 7, 9, 8, 12, 7, 7, 6, 10, 8, 13, 7, 9, 14, 6, 24, 7, 9, 4, 4, 6])\n",
        "\n",
        "# Perform an independent two-sample t-test\n",
        "t_statistic, p_value = stats.ttest_ind(group1, group2)\n",
        "\n",
        "# Print the results\n",
        "print(f\"t-statistic: {t_statistic}\")\n",
        "print(f\"p-value: {p_value}\")\n",
        "\n",
        "# Determine the significance level (alpha)\n",
        "alpha = 0.05\n",
        "\n",
        "# Check if the p-value is less than alpha to determine significance\n",
        "if p_value < alpha:\n",
        "    print(\"Reject the null hypothesis: There is a significant difference between the groups.\")\n",
        "else:\n",
        "    print(\"Fail to reject the null hypothesis: There is no significant difference between the groups.\")\n",
        "\n",
        "\n",
        "group1_mean = np.mean(group1)\n",
        "group2_mean = np.mean(group2)\n",
        "print(\"\\nGroup 1 (Group1_mean:\", group1_mean, \")\")\n",
        "print(\"\\nGroup 2 (Group2_mean:\", group2_mean, \")\")\n",
        "\n",
        "means = [group1_mean, group2_mean]\n",
        "min_mean = min(means)\n",
        "max_mean = max(means)\n",
        "\n",
        "diff = max_mean - min_mean\n",
        "print(\"\\nGroup (Group_mean_diff:\", diff, \")\")\n",
        "\n",
        "\n",
        "plt.figure(figsize=(5.5, 2.5))\n",
        "plt.boxplot([group1, group2], labels=['Input w prompt', 'Input w/o prompt'])\n",
        "plt.ylabel('Number of correct UCAs')\n",
        "plt.grid(axis='y', linestyle='--', which='major', color='grey', alpha=.25)\n",
        "\n",
        "\n",
        "plt.show()\n",
        "\n",
        "\n",
        "from tabulate import tabulate\n",
        "\n",
        "#Generate LaTeX table\n",
        "meandiff = group2_mean - group1_mean\n",
        "#Assuming a 95% confidence interval for the t-test\n",
        "confidence_level = 0.95\n",
        "degrees_freedom = len(group1) + len(group2) - 2\n",
        "confidence_interval = stats.t.interval(confidence_level, degrees_freedom, loc=meandiff, scale=stats.sem(group1-group2))\n",
        "lower, upper = confidence_interval\n",
        "reject = p_value < alpha\n",
        "\n",
        "#Generate LaTeX table\n",
        "headers = [\"group1\", \"group2\", \"meandiff\", \"p-adj\", \"lower\", \"upper\", \"reject\"]\n",
        "table_data = [\n",
        "    [\"Group 1\", \"Group 2\", meandiff, p_value, lower, upper, reject]\n",
        "]\n",
        "\n",
        "latex_table = tabulate(table_data, headers=headers, tablefmt=\"latex_booktabs\")\n",
        "print(latex_table)"
      ],
      "metadata": {
        "colab": {
          "base_uri": "https://localhost:8080/",
          "height": 546
        },
        "id": "9IUJACrtSDRy",
        "outputId": "c6cbb8fa-50a5-4aec-ac81-d73b3a6eaa7c"
      },
      "execution_count": null,
      "outputs": [
        {
          "output_type": "stream",
          "name": "stdout",
          "text": [
            "t-statistic: -1.979759651033951\n",
            "p-value: 0.05144982133190643\n",
            "Fail to reject the null hypothesis: There is no significant difference between the groups.\n",
            "\n",
            "Group 1 (Group1_mean: 7.2368421052631575 )\n",
            "\n",
            "Group 2 (Group2_mean: 8.5 )\n",
            "\n",
            "Group (Group_mean_diff: 1.2631578947368425 )\n"
          ]
        },
        {
          "output_type": "display_data",
          "data": {
            "text/plain": [
              "<Figure size 550x250 with 1 Axes>"
            ],
            "image/png": "[encoded data removed]"
          },
          "metadata": {}
        },
        {
          "output_type": "stream",
          "name": "stdout",
          "text": [
            "\\begin{tabular}{llrrrrr}\n",
            "\\toprule\n",
            " group1   & group2   &   meandiff &     p-adj &    lower &   upper &   reject \\\\\n",
            "\\midrule\n",
            " Group 1  & Group 2  &    1.26316 & 0.0514498 & 0.185377 & 2.34094 &        0 \\\\\n",
            "\\bottomrule\n",
            "\\end{tabular}\n"
          ]
        }
      ]
    },
    {
      "cell_type": "code",
      "source": [
        "import numpy as np\n",
        "from scipy import stats\n",
        "import matplotlib.pyplot as plt\n",
        "from statsmodels.stats.multicomp import pairwise_tukeyhsd\n",
        "\n",
        "# Generate three sample datasets with different sizes (replace these with your own data)\n",
        "group1 = np.array([5/5, 7/7, 8/8, 4/4, 7/8, 4/6, 8/10, 8/8, 8/8, 9/10, 8/10, 9/9, 4/4, 9/11, 7/9, 5/7, 7/8, 6/6, 6/7, 6/7, 7/8, 8/9, 7/8, 8/10, 7/7, 7/9, 6/6, 8/10, 11/13, 10/10, 7/8, 6/7, 11/11, 7/7, 5/6, 8/10, 7/8, 10/11])\n",
        "group2 = np.array([6/6, 13/14, 7/7, 9/9, 5/7, 7/9, 7/7, 9/10, 12/14, 10/12, 8/9, 10/10, 6/6, 8/9, 8/8, 8/8, 8/10, 5/6, 7/7, 9/9, 8/9, 12/12, 7/7, 7/7, 6/6, 10/10, 8/8, 13/14, 7/7, 9/10, 14/14, 6/7, 24/25, 7/8, 9/10, 4/5, 4/5, 6/7])\n",
        "group3 = np.array([6/6, 6/6, 11/12, 6/6, 8/8, 8/8, 4/4, 6/6, 6/8, 8/8, 9/9, 6/6, 5/5, 7/7, 6/6, 5/5, 8/8, 8/8, 5/5, 6/6, 5/5, 7/7, 5/5, 4/4, 5/5, 6/6, 6/6, 7/8, 8/8, 6/6, 8/8, 5/5, 16/16, 5/5, 11/12, 5/5, 12/12, 11/11])\n",
        "\n",
        "# Perform a one-way ANOVA\n",
        "f_statistic, p_value = stats.f_oneway(group1, group2, group3)\n",
        "\n",
        "# Print the results\n",
        "print(\"One-way ANOVA Results:\")\n",
        "print(f\"F-statistic: {f_statistic}\")\n",
        "print(f\"P-value: {p_value}\")\n",
        "\n",
        "# Determine the significance level (alpha)\n",
        "alpha = 0.05\n",
        "\n",
        "# Check if the p-value is less than alpha to determine significance\n",
        "if p_value < alpha:\n",
        "    print(\"Reject the null hypothesis: There is a significant difference between at least one pair of groups.\")\n",
        "else:\n",
        "    print(\"Fail to reject the null hypothesis: There is no significant difference between the groups.\")\n",
        "\n",
        "# Additional information about the groups\n",
        "print(\"\\nGroup 1 (Sample Size:\", len(group1), \"):\", group1)\n",
        "print(\"Group 2 (Sample Size:\", len(group2), \"):\", group2)\n",
        "print(\"Group 3 (Sample Size:\", len(group3), \"):\", group3)\n",
        "\n",
        "\n",
        "group1_mean = np.mean(group1)\n",
        "group2_mean = np.mean(group2)\n",
        "group3_mean = np.mean(group3)\n",
        "print(\"\\nGroup 1 (Group1_mean:\", group1_mean, \")\")\n",
        "print(\"\\nGroup 2 (Group2_mean:\", group2_mean, \")\")\n",
        "print(\"\\nGroup 3 (Group3_mean:\", group3_mean, \")\")\n",
        "\n",
        "means = [group1_mean, group2_mean, group3_mean]\n",
        "min_mean = min(means)\n",
        "max_mean = max(means)\n",
        "\n",
        "diff = max_mean - min_mean\n",
        "print(\"\\nGroup (Group_mean_diff:\", diff, \")\")\n",
        "\n",
        "\n",
        "# Create a box plot to show distributions\n",
        "plt.figure(figsize=(5.5, 2.5))\n",
        "plt.boxplot([group1, group2, group3], labels=['Input w/o prompt','Input w std. prompt', 'Input w sp. prompt'])\n",
        "plt.ylabel('Proportion of correct UCAs')\n",
        "plt.grid(axis='y', linestyle='--', which='major', color='grey', alpha=.25)\n",
        "\n",
        "\n",
        "plt.show()\n",
        "\n",
        "\n",
        "data = np.concatenate([group1, group2, group3])\n",
        "labels = ['Group1'] * len(group1) + ['Group2'] * len(group2) + ['Group3'] * len(group3)\n",
        "\n",
        "# Perform pairwise comparison\n",
        "tukey_results = pairwise_tukeyhsd(data, labels, alpha=alpha)\n",
        "\n",
        "# Print the results table\n",
        "print(tukey_results)"
      ],
      "metadata": {
        "colab": {
          "base_uri": "https://localhost:8080/",
          "height": 1000
        },
        "id": "zvfCp0Z5imcs",
        "outputId": "38a7444b-c58f-432f-84b9-3b6eb95120be"
      },
      "execution_count": 4,
      "outputs": [
        {
          "output_type": "stream",
          "name": "stdout",
          "text": [
            "One-way ANOVA Results:\n",
            "F-statistic: 13.790359204494523\n",
            "P-value: 4.47630279340019e-06\n",
            "Reject the null hypothesis: There is a significant difference between at least one pair of groups.\n",
            "\n",
            "Group 1 (Sample Size: 38 ): [1.         1.         1.         1.         0.875      0.66666667\n",
            " 0.8        1.         1.         0.9        0.8        1.\n",
            " 1.         0.81818182 0.77777778 0.71428571 0.875      1.\n",
            " 0.85714286 0.85714286 0.875      0.88888889 0.875      0.8\n",
            " 1.         0.77777778 1.         0.8        0.84615385 1.\n",
            " 0.875      0.85714286 1.         1.         0.83333333 0.8\n",
            " 0.875      0.90909091]\n",
            "Group 2 (Sample Size: 38 ): [1.         0.92857143 1.         1.         0.71428571 0.77777778\n",
            " 1.         0.9        0.85714286 0.83333333 0.88888889 1.\n",
            " 1.         0.88888889 1.         1.         0.8        0.83333333\n",
            " 1.         1.         0.88888889 1.         1.         1.\n",
            " 1.         1.         1.         0.92857143 1.         0.9\n",
            " 1.         0.85714286 0.96       0.875      0.9        0.8\n",
            " 0.8        0.85714286]\n",
            "Group 3 (Sample Size: 38 ): [1.         1.         0.91666667 1.         1.         1.\n",
            " 1.         1.         0.75       1.         1.         1.\n",
            " 1.         1.         1.         1.         1.         1.\n",
            " 1.         1.         1.         1.         1.         1.\n",
            " 1.         1.         1.         0.875      1.         1.\n",
            " 1.         1.         1.         1.         0.91666667 1.\n",
            " 1.         1.        ]\n",
            "\n",
            "Group 1 (Group1_mean: 0.8935154027259289 )\n",
            "\n",
            "Group 2 (Group2_mean: 0.9260254803675855 )\n",
            "\n",
            "Group 3 (Group3_mean: 0.9857456140350876 )\n",
            "\n",
            "Group (Group_mean_diff: 0.09223021130915876 )\n"
          ]
        },
        {
          "output_type": "display_data",
          "data": {
            "text/plain": [
              "<Figure size 550x250 with 1 Axes>"
            ],
            "image/png": "[encoded data removed]"
          },
          "metadata": {}
        },
        {
          "output_type": "stream",
          "name": "stdout",
          "text": [
            "Multiple Comparison of Means - Tukey HSD, FWER=0.05\n",
            "===================================================\n",
            "group1 group2 meandiff p-adj   lower  upper  reject\n",
            "---------------------------------------------------\n",
            "Group1 Group2   0.0325 0.1662 -0.0098 0.0748  False\n",
            "Group1 Group3   0.0922    0.0  0.0499 0.1346   True\n",
            "Group2 Group3   0.0597 0.0031  0.0174  0.102   True\n",
            "---------------------------------------------------\n"
          ]
        }
      ]
    },
    {
      "cell_type": "code",
      "source": [
        "import numpy as np\n",
        "from scipy import stats\n",
        "import matplotlib.pyplot as plt\n",
        "from statsmodels.stats.multicomp import pairwise_tukeyhsd\n",
        "\n",
        "# Generate three sample datasets with different sizes (replace these with your own data)\n",
        "group1 = np.array([5, 7, 8, 4, 7, 4, 8, 8, 8, 9, 8, 9, 4, 9, 7, 5, 7, 6, 6, 6, 7, 8, 7, 8, 7, 7, 6, 8, 11, 10, 7, 6, 11, 7, 5, 8, 7, 10])\n",
        "group2 = np.array([6, 13, 7, 9, 5, 7, 7, 9, 12, 10, 8, 10, 6, 8, 8, 8, 8, 5, 7, 9, 8, 12, 7, 7, 6, 10, 8, 13, 7, 9, 14, 6, 24, 7, 9, 4, 4, 6])\n",
        "group3 = np.array([6, 6, 11, 6, 8, 8, 4, 6, 6, 8, 9, 6, 5, 7, 6, 5, 8, 8, 5, 6, 5, 7, 5, 4, 5, 6, 6, 7, 8, 6, 8, 5, 16, 5, 11, 5, 12, 11])\n",
        "\n",
        "# Perform a one-way ANOVA\n",
        "f_statistic, p_value = stats.f_oneway(group1, group2, group3)\n",
        "\n",
        "# Print the results\n",
        "print(\"One-way ANOVA Results:\")\n",
        "print(f\"F-statistic: {f_statistic}\")\n",
        "print(f\"P-value: {p_value}\")\n",
        "\n",
        "# Determine the significance level (alpha)\n",
        "alpha = 0.05\n",
        "\n",
        "# Check if the p-value is less than alpha to determine significance\n",
        "if p_value < alpha:\n",
        "    print(\"Reject the null hypothesis: There is a significant difference between at least one pair of groups.\")\n",
        "else:\n",
        "    print(\"Fail to reject the null hypothesis: There is no significant difference between the groups.\")\n",
        "\n",
        "# Additional information about the groups\n",
        "print(\"\\nGroup 1 (Sample Size:\", len(group1), \"):\", group1)\n",
        "print(\"Group 2 (Sample Size:\", len(group2), \"):\", group2)\n",
        "print(\"Group 3 (Sample Size:\", len(group3), \"):\", group3)\n",
        "\n",
        "\n",
        "group1_mean = np.mean(group1)\n",
        "group2_mean = np.mean(group2)\n",
        "group3_mean = np.mean(group3)\n",
        "print(\"\\nGroup 1 (Group1_mean:\", group1_mean, \")\")\n",
        "print(\"\\nGroup 2 (Group2_mean:\", group2_mean, \")\")\n",
        "print(\"\\nGroup 3 (Group3_mean:\", group3_mean, \")\")\n",
        "\n",
        "means = [group1_mean, group2_mean, group3_mean]\n",
        "min_mean = min(means)\n",
        "max_mean = max(means)\n",
        "\n",
        "diff = max_mean - min_mean\n",
        "print(\"\\nGroup (Group_mean_diff:\", diff, \")\")\n",
        "\n",
        "plt.figure(figsize=(5.5, 2.5))\n",
        "plt.boxplot([group1, group2, group3], labels=['Input w/o prompt','Input w std. prompt', 'Input w sp. prompt'])\n",
        "plt.ylabel('Number of correct UCAs')\n",
        "plt.grid(axis='y', linestyle='--', which='major', color='grey', alpha=.25)\n",
        "\n",
        "\n",
        "\n",
        "plt.show()\n",
        "\n",
        "data = np.concatenate([group1, group2, group3])\n",
        "labels = ['Group1'] * len(group1) + ['Group2'] * len(group2) + ['Group3'] * len(group3)\n",
        "\n",
        "# Perform pairwise comparison\n",
        "tukey_results = pairwise_tukeyhsd(data, labels, alpha=alpha)\n",
        "\n",
        "# Print the results table\n",
        "print(tukey_results)"
      ],
      "metadata": {
        "colab": {
          "base_uri": "https://localhost:8080/",
          "height": 745
        },
        "id": "APLE4OqIxa6w",
        "outputId": "c7f3c83d-5cae-4cb6-a176-e7405c2b4715"
      },
      "execution_count": 3,
      "outputs": [
        {
          "output_type": "stream",
          "name": "stdout",
          "text": [
            "One-way ANOVA Results:\n",
            "F-statistic: 3.4184650705149204\n",
            "P-value: 0.036249875647539016\n",
            "Reject the null hypothesis: There is a significant difference between at least one pair of groups.\n",
            "\n",
            "Group 1 (Sample Size: 38 ): [ 5  7  8  4  7  4  8  8  8  9  8  9  4  9  7  5  7  6  6  6  7  8  7  8\n",
            "  7  7  6  8 11 10  7  6 11  7  5  8  7 10]\n",
            "Group 2 (Sample Size: 38 ): [ 6 13  7  9  5  7  7  9 12 10  8 10  6  8  8  8  8  5  7  9  8 12  7  7\n",
            "  6 10  8 13  7  9 14  6 24  7  9  4  4  6]\n",
            "Group 3 (Sample Size: 38 ): [ 6  6 11  6  8  8  4  6  6  8  9  6  5  7  6  5  8  8  5  6  5  7  5  4\n",
            "  5  6  6  7  8  6  8  5 16  5 11  5 12 11]\n",
            "\n",
            "Group 1 (Group1_mean: 7.2368421052631575 )\n",
            "\n",
            "Group 2 (Group2_mean: 8.5 )\n",
            "\n",
            "Group 3 (Group3_mean: 7.0 )\n",
            "\n",
            "Group (Group_mean_diff: 1.5 )\n"
          ]
        },
        {
          "output_type": "display_data",
          "data": {
            "text/plain": [
              "<Figure size 550x250 with 1 Axes>"
            ],
            "image/png": "[encoded data removed]"
          },
          "metadata": {}
        },
        {
          "output_type": "stream",
          "name": "stdout",
          "text": [
            "Multiple Comparison of Means - Tukey HSD, FWER=0.05 \n",
            "====================================================\n",
            "group1 group2 meandiff p-adj   lower   upper  reject\n",
            "----------------------------------------------------\n",
            "Group1 Group2   1.2632 0.1057 -0.2021  2.7284  False\n",
            "Group1 Group3  -0.2368  0.922 -1.7021  1.2284  False\n",
            "Group2 Group3     -1.5 0.0435 -2.9653 -0.0347   True\n",
            "----------------------------------------------------\n"
          ]
        }
      ]
    }
  ]
}